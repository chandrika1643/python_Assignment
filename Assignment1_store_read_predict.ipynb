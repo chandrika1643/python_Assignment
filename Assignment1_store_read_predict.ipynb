{
 "cells": [
  {
   "cell_type": "markdown",
   "metadata": {},
   "source": [
    "### IMPORTING MODULES"
   ]
  },
  {
   "cell_type": "code",
   "execution_count": 122,
   "metadata": {},
   "outputs": [],
   "source": [
    "import cv2\n",
    "import numpy as np\n",
    "import matplotlib.pyplot as plt\n",
    "from sklearn import datasets,metrics\n",
    "from sklearn.ensemble import RandomForestClassifier\n",
    "from scipy import misc\n",
    "from numpy import empty\n"
   ]
  },
  {
   "cell_type": "markdown",
   "metadata": {},
   "source": [
    "### Reading and storing an image from DATABASE and EXTERNAL"
   ]
  },
  {
   "cell_type": "code",
   "execution_count": 77,
   "metadata": {},
   "outputs": [
    {
     "data": {
      "image/png": "[encoded data removed]",
      "text/plain": [
       "<Figure size 432x288 with 1 Axes>"
      ]
     },
     "metadata": {
      "needs_background": "light"
     },
     "output_type": "display_data"
    },
    {
     "data": {
      "image/png": "[encoded data removed]",
      "text/plain": [
       "<Figure size 432x288 with 1 Axes>"
      ]
     },
     "metadata": {
      "needs_background": "light"
     },
     "output_type": "display_data"
    }
   ],
   "source": [
    "# the digits dataset \n",
    "digits=datasets.load_digits()\n",
    "t=digits.target\n",
    "#the image to predict_(testing)#the size,datatype and the values/pixels \n",
    "#are same as the trained set since the image is taken from the same set,\n",
    "#othercase the attributes to be matched\n",
    "im=digits.images[16]\n",
    "ext_im=cv2.imread('5_five.png')\n",
    "\n",
    "plt.subplot(1,2,1)\n",
    "plt.axis('off')\n",
    "plt.imshow(ext_im,cmap='gray',interpolation='nearest')\n",
    "plt.title('External image')\n",
    "plt.show()\n",
    "\n",
    "plt.subplot(1,2,2)\n",
    "plt.axis('off')\n",
    "plt.imshow(im,interpolation='nearest')\n",
    "plt.title('database image')\n",
    "plt.show()"
   ]
  },
  {
   "cell_type": "code",
   "execution_count": 45,
   "metadata": {},
   "outputs": [
    {
     "name": "stdout",
     "output_type": "stream",
     "text": [
      "image from database and its shape and datatype\n"
     ]
    },
    {
     "data": {
      "text/plain": [
       "<Figure size 432x288 with 0 Axes>"
      ]
     },
     "metadata": {},
     "output_type": "display_data"
    },
    {
     "data": {
      "image/png": "[encoded data removed]",
      "text/plain": [
       "<Figure size 288x288 with 1 Axes>"
      ]
     },
     "metadata": {
      "needs_background": "light"
     },
     "output_type": "display_data"
    },
    {
     "name": "stdout",
     "output_type": "stream",
     "text": [
      "(8, 8)\n",
      "float64\n",
      "size after reshaping [[ 0.  0.  0.  8. 15.  1.  0.  0.  0.  0.  0. 12. 14.  0.  0.  0.  0.  0.\n",
      "   3. 16.  7.  0.  0.  0.  0.  0.  6. 16.  2.  0.  0.  0.  0.  0.  7. 16.\n",
      "  16. 13.  5.  0.  0.  0. 15. 16.  9.  9. 14.  0.  0.  0.  3. 14.  9.  2.\n",
      "  16.  2.  0.  0.  0.  7. 15. 16. 11.  0.]]\n"
     ]
    }
   ],
   "source": [
    "print('image from database and its shape and datatype')\n",
    "plt.gray()\n",
    "plt.matshow(im)\n",
    "plt.show()\n",
    "print(im.shape)\n",
    "print(im.dtype)\n",
    "im2=im.reshape(1,64)\n",
    "print('size after reshaping',im2)"
   ]
  },
  {
   "cell_type": "code",
   "execution_count": 100,
   "metadata": {},
   "outputs": [
    {
     "name": "stdout",
     "output_type": "stream",
     "text": [
      "External image and its shape and datatype\n",
      "(960, 960, 3)\n",
      "uint8\n",
      "reshaped to  (8, 8, 3)\n",
      "datatype converted to float64\n",
      "scales pixels from 0 to 255 to 0 to 16 \n",
      " [[[16 16 16]\n",
      "  [16 16 16]\n",
      "  [16 16 16]\n",
      "  [16 16 16]\n",
      "  [16 16 16]\n",
      "  [16 16 16]\n",
      "  [16 16 16]\n",
      "  [16 16 16]]\n",
      "\n",
      " [[16 16 16]\n",
      "  [16 16 16]\n",
      "  [16 16 16]\n",
      "  [16 16 16]\n",
      "  [15 15 15]\n",
      "  [14 14 14]\n",
      "  [ 1  1  1]\n",
      "  [16 16 16]]\n",
      "\n",
      " [[16 16 16]\n",
      "  [16 16 16]\n",
      "  [ 2  2  2]\n",
      "  [ 0  0  0]\n",
      "  [ 3  3  3]\n",
      "  [16 16 16]\n",
      "  [16 16 16]\n",
      "  [16 16 16]]\n",
      "\n",
      " [[16 16 16]\n",
      "  [16 16 16]\n",
      "  [16 16 16]\n",
      "  [ 3  3  3]\n",
      "  [16 16 16]\n",
      "  [16 16 16]\n",
      "  [16 16 16]\n",
      "  [16 16 16]]\n",
      "\n",
      " [[16 16 16]\n",
      "  [16 16 16]\n",
      "  [16 16 16]\n",
      "  [16 16 16]\n",
      "  [ 3  3  3]\n",
      "  [14 14 14]\n",
      "  [16 16 16]\n",
      "  [16 16 16]]\n",
      "\n",
      " [[16 16 16]\n",
      "  [16 16 16]\n",
      "  [16 16 16]\n",
      "  [13 13 13]\n",
      "  [ 0  0  0]\n",
      "  [ 3  3  3]\n",
      "  [16 16 16]\n",
      "  [16 16 16]]\n",
      "\n",
      " [[16 16 16]\n",
      "  [16 16 16]\n",
      "  [ 2  2  2]\n",
      "  [ 0  0  0]\n",
      "  [15 15 15]\n",
      "  [16 16 16]\n",
      "  [16 16 16]\n",
      "  [16 16 16]]\n",
      "\n",
      " [[16 16 16]\n",
      "  [16 16 16]\n",
      "  [16 16 16]\n",
      "  [16 16 16]\n",
      "  [16 16 16]\n",
      "  [16 16 16]\n",
      "  [16 16 16]\n",
      "  [16 16 16]]]\n",
      "1x64 matrix [[16. 16. 16. 16. 16. 16. 16. 16. 16. 16. 16. 16. 15. 14.  1. 16. 16. 16.\n",
      "   2.  0.  3. 16. 16. 16. 16. 16. 16.  3. 16. 16. 16. 16. 16. 16. 16. 16.\n",
      "   3. 14. 16. 16. 16. 16. 16. 13.  0.  3. 16. 16. 16. 16.  2.  0. 15. 16.\n",
      "  16. 16. 16. 16. 16. 16. 16. 16. 16. 16.]]\n"
     ]
    },
    {
     "name": "stderr",
     "output_type": "stream",
     "text": [
      "C:\\Users\\5TarkE-Angel\\Anaconda3\\lib\\site-packages\\ipykernel_launcher.py:9: DeprecationWarning: `bytescale` is deprecated!\n",
      "`bytescale` is deprecated in SciPy 1.0.0, and will be removed in 1.2.0.\n",
      "  if __name__ == '__main__':\n"
     ]
    },
    {
     "data": {
      "image/png": "[encoded data removed]",
      "text/plain": [
       "<Figure size 432x288 with 1 Axes>"
      ]
     },
     "metadata": {
      "needs_background": "light"
     },
     "output_type": "display_data"
    }
   ],
   "source": [
    "print('External image and its shape and datatype')\n",
    "print(ext_im.shape)\n",
    "print(ext_im.dtype)\n",
    "ext_im2=cv2.resize(ext_im,(8,8))#resizesto 8*8\n",
    "plt.imshow(ext_im2)\n",
    "print('reshaped to ',ext_im2.shape)\n",
    "ext_im3=np.asarray(ext_im2,dtype='float64')#converts the datatype\n",
    "print('datatype converted to',ext_im3.dtype)\n",
    "ext_im4=misc.bytescale(ext_im3,high=16,low=0)\n",
    "print('scales pixels from 0 to 255 to 0 to 16 \\n',ext_im4)\n",
    "final=[]\n",
    "for row in ext_im4:\n",
    "    for pixel in row:\n",
    "        final.append(sum(pixel)/3.0) \n",
    "final=np.array(final)\n",
    "ext_im5=final.reshape(1,64)\n",
    "print('1x64 matrix',ext_im5)\n"
   ]
  },
  {
   "cell_type": "code",
   "execution_count": 34,
   "metadata": {},
   "outputs": [
    {
     "name": "stdout",
     "output_type": "stream",
     "text": [
      "(1797, 8, 8)\n",
      "[[ 0.  0.  5. ...  0.  0.  0.]\n",
      " [ 0.  0.  0. ... 10.  0.  0.]\n",
      " [ 0.  0.  0. ... 16.  9.  0.]\n",
      " ...\n",
      " [ 0.  0.  1. ...  6.  0.  0.]\n",
      " [ 0.  0.  2. ... 12.  0.  0.]\n",
      " [ 0.  0. 10. ... 12.  1.  0.]]\n"
     ]
    },
    {
     "data": {
      "text/plain": [
       "(1797, 64)"
      ]
     },
     "execution_count": 34,
     "metadata": {},
     "output_type": "execute_result"
    }
   ],
   "source": [
    "print(digits.images.shape)\n",
    "n_samples=len(digits.images)\n",
    "data=digits.images.reshape((n_samples,-1))#flattening the test image\n",
    "print(data)\n",
    "data.shape"
   ]
  },
  {
   "cell_type": "markdown",
   "metadata": {},
   "source": [
    "### TRAINING OF THE ALGORITHM and prediction"
   ]
  },
  {
   "cell_type": "code",
   "execution_count": 29,
   "metadata": {},
   "outputs": [
    {
     "data": {
      "text/plain": [
       "RandomForestClassifier(bootstrap=True, class_weight=None, criterion='entropy',\n",
       "            max_depth=None, max_features='auto', max_leaf_nodes=None,\n",
       "            min_impurity_decrease=0.0, min_impurity_split=None,\n",
       "            min_samples_leaf=1, min_samples_split=2,\n",
       "            min_weight_fraction_leaf=0.0, n_estimators=30, n_jobs=None,\n",
       "            oob_score=False, random_state=None, verbose=0,\n",
       "            warm_start=False)"
      ]
     },
     "execution_count": 29,
     "metadata": {},
     "output_type": "execute_result"
    }
   ],
   "source": [
    "#create a classifiee :a random forest classifier\n",
    "classifier=RandomForestClassifier(n_estimators=30,criterion='entropy')\n",
    "#we learn the digits on the first half of the digits\n",
    "classifier.fit(data,digits.target)"
   ]
  },
  {
   "cell_type": "code",
   "execution_count": 134,
   "metadata": {},
   "outputs": [],
   "source": [
    "d_list=[]\n",
    "d_list=[im2,ext_im5]#list to be predicted\n",
    "i_list=[im,ext_im]# images under test"
   ]
  },
  {
   "cell_type": "code",
   "execution_count": 147,
   "metadata": {},
   "outputs": [
    {
     "name": "stdout",
     "output_type": "stream",
     "text": [
      "predicted value \n",
      " [6]\n"
     ]
    },
    {
     "data": {
      "image/png": "[encoded data removed]",
      "text/plain": [
       "<Figure size 432x288 with 1 Axes>"
      ]
     },
     "metadata": {
      "needs_background": "light"
     },
     "output_type": "display_data"
    },
    {
     "name": "stdout",
     "output_type": "stream",
     "text": [
      "predicted value \n",
      " [5]\n"
     ]
    },
    {
     "data": {
      "image/png": "[encoded data removed]",
      "text/plain": [
       "<Figure size 432x288 with 1 Axes>"
      ]
     },
     "metadata": {
      "needs_background": "light"
     },
     "output_type": "display_data"
    }
   ],
   "source": [
    "im_pd=list(zip(d_list,i_list))\n",
    "for i,(val,img) in enumerate(im_pd[:2]):\n",
    "    value=classifier.predict(val)\n",
    "    print('predicted value \\n',value)\n",
    "    plt.subplot(2,4,i+1)\n",
    "    plt.imshow(img,interpolation='nearest')\n",
    "    plt.axis('off')\n",
    "    plt.show()"
   ]
  },
  {
   "cell_type": "code",
   "execution_count": null,
   "metadata": {},
   "outputs": [],
   "source": []
  }
 ],
 "metadata": {
  "kernelspec": {
   "display_name": "Python 3",
   "language": "python",
   "name": "python3"
  },
  "language_info": {
   "codemirror_mode": {
    "name": "ipython",
    "version": 3
   },
   "file_extension": ".py",
   "mimetype": "text/x-python",
   "name": "python",
   "nbconvert_exporter": "python",
   "pygments_lexer": "ipython3",
   "version": "3.7.1"
  }
 },
 "nbformat": 4,
 "nbformat_minor": 2
}
